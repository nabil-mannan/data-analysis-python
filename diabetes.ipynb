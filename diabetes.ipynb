{
 "cells": [
  {
   "cell_type": "markdown",
   "id": "72379075",
   "metadata": {},
   "source": [
    "# Diabetes Data Analysis"
   ]
  },
  {
   "cell_type": "code",
   "execution_count": 1,
   "id": "c14e6d31",
   "metadata": {},
   "outputs": [],
   "source": [
    "# Importing relevant modules\n",
    "import pandas as pd\n",
    "import numpy as np\n",
    "import matplotlib.pyplot as plt\n",
    "import seaborn as sns  \n",
    "\n",
    "from sklearn import linear_model\n",
    "\n",
    "pd.set_option('max_rows',10) # Limit the number of rows to be shown\n",
    "# Store within the notebook\n",
    "%matplotlib inline"
   ]
  },
  {
   "cell_type": "markdown",
   "id": "0fde0a7f",
   "metadata": {},
   "source": [
    "# a. Data processing"
   ]
  },
  {
   "cell_type": "code",
   "execution_count": 2,
   "id": "3ec7a500",
   "metadata": {},
   "outputs": [],
   "source": [
    "diabetes = pd.read_csv('diabetes.csv') # Importing the dataset from excel"
   ]
  },
  {
   "cell_type": "code",
   "execution_count": 3,
   "id": "74dc6d25",
   "metadata": {},
   "outputs": [
    {
     "data": {
      "text/html": [
       "<div>\n",
       "<style scoped>\n",
       "    .dataframe tbody tr th:only-of-type {\n",
       "        vertical-align: middle;\n",
       "    }\n",
       "\n",
       "    .dataframe tbody tr th {\n",
       "        vertical-align: top;\n",
       "    }\n",
       "\n",
       "    .dataframe thead th {\n",
       "        text-align: right;\n",
       "    }\n",
       "</style>\n",
       "<table border=\"1\" class=\"dataframe\">\n",
       "  <thead>\n",
       "    <tr style=\"text-align: right;\">\n",
       "      <th></th>\n",
       "      <th>Patient_Number</th>\n",
       "      <th>Cholesterol</th>\n",
       "      <th>Glucose</th>\n",
       "      <th>HDL_Chol</th>\n",
       "      <th>Chol_HDL_Ratio</th>\n",
       "      <th>Age</th>\n",
       "      <th>Gender</th>\n",
       "      <th>Height</th>\n",
       "      <th>Weight</th>\n",
       "      <th>BMI</th>\n",
       "      <th>Systolic_BP</th>\n",
       "      <th>Diastolic_BP</th>\n",
       "      <th>Waist</th>\n",
       "      <th>Hip</th>\n",
       "      <th>Waist_Hip_Ratio</th>\n",
       "      <th>Diabetic</th>\n",
       "    </tr>\n",
       "  </thead>\n",
       "  <tbody>\n",
       "    <tr>\n",
       "      <th>0</th>\n",
       "      <td>1</td>\n",
       "      <td>193</td>\n",
       "      <td>77</td>\n",
       "      <td>49</td>\n",
       "      <td>3.9</td>\n",
       "      <td>19</td>\n",
       "      <td>0</td>\n",
       "      <td>61</td>\n",
       "      <td>119</td>\n",
       "      <td>22.5</td>\n",
       "      <td>118</td>\n",
       "      <td>70</td>\n",
       "      <td>32</td>\n",
       "      <td>38</td>\n",
       "      <td>0.84</td>\n",
       "      <td>0</td>\n",
       "    </tr>\n",
       "    <tr>\n",
       "      <th>1</th>\n",
       "      <td>2</td>\n",
       "      <td>146</td>\n",
       "      <td>79</td>\n",
       "      <td>41</td>\n",
       "      <td>3.6</td>\n",
       "      <td>19</td>\n",
       "      <td>0</td>\n",
       "      <td>60</td>\n",
       "      <td>135</td>\n",
       "      <td>26.4</td>\n",
       "      <td>108</td>\n",
       "      <td>58</td>\n",
       "      <td>33</td>\n",
       "      <td>40</td>\n",
       "      <td>0.83</td>\n",
       "      <td>0</td>\n",
       "    </tr>\n",
       "    <tr>\n",
       "      <th>2</th>\n",
       "      <td>3</td>\n",
       "      <td>217</td>\n",
       "      <td>75</td>\n",
       "      <td>54</td>\n",
       "      <td>4.0</td>\n",
       "      <td>20</td>\n",
       "      <td>0</td>\n",
       "      <td>67</td>\n",
       "      <td>187</td>\n",
       "      <td>29.3</td>\n",
       "      <td>110</td>\n",
       "      <td>72</td>\n",
       "      <td>40</td>\n",
       "      <td>45</td>\n",
       "      <td>0.89</td>\n",
       "      <td>0</td>\n",
       "    </tr>\n",
       "    <tr>\n",
       "      <th>3</th>\n",
       "      <td>4</td>\n",
       "      <td>226</td>\n",
       "      <td>97</td>\n",
       "      <td>70</td>\n",
       "      <td>3.2</td>\n",
       "      <td>20</td>\n",
       "      <td>0</td>\n",
       "      <td>64</td>\n",
       "      <td>114</td>\n",
       "      <td>19.6</td>\n",
       "      <td>122</td>\n",
       "      <td>64</td>\n",
       "      <td>31</td>\n",
       "      <td>39</td>\n",
       "      <td>0.79</td>\n",
       "      <td>0</td>\n",
       "    </tr>\n",
       "    <tr>\n",
       "      <th>4</th>\n",
       "      <td>5</td>\n",
       "      <td>164</td>\n",
       "      <td>91</td>\n",
       "      <td>67</td>\n",
       "      <td>2.4</td>\n",
       "      <td>20</td>\n",
       "      <td>0</td>\n",
       "      <td>70</td>\n",
       "      <td>141</td>\n",
       "      <td>20.2</td>\n",
       "      <td>122</td>\n",
       "      <td>86</td>\n",
       "      <td>32</td>\n",
       "      <td>39</td>\n",
       "      <td>0.82</td>\n",
       "      <td>0</td>\n",
       "    </tr>\n",
       "    <tr>\n",
       "      <th>...</th>\n",
       "      <td>...</td>\n",
       "      <td>...</td>\n",
       "      <td>...</td>\n",
       "      <td>...</td>\n",
       "      <td>...</td>\n",
       "      <td>...</td>\n",
       "      <td>...</td>\n",
       "      <td>...</td>\n",
       "      <td>...</td>\n",
       "      <td>...</td>\n",
       "      <td>...</td>\n",
       "      <td>...</td>\n",
       "      <td>...</td>\n",
       "      <td>...</td>\n",
       "      <td>...</td>\n",
       "      <td>...</td>\n",
       "    </tr>\n",
       "    <tr>\n",
       "      <th>385</th>\n",
       "      <td>386</td>\n",
       "      <td>227</td>\n",
       "      <td>105</td>\n",
       "      <td>44</td>\n",
       "      <td>5.2</td>\n",
       "      <td>83</td>\n",
       "      <td>0</td>\n",
       "      <td>59</td>\n",
       "      <td>125</td>\n",
       "      <td>25.2</td>\n",
       "      <td>150</td>\n",
       "      <td>90</td>\n",
       "      <td>35</td>\n",
       "      <td>40</td>\n",
       "      <td>0.88</td>\n",
       "      <td>0</td>\n",
       "    </tr>\n",
       "    <tr>\n",
       "      <th>386</th>\n",
       "      <td>387</td>\n",
       "      <td>226</td>\n",
       "      <td>279</td>\n",
       "      <td>52</td>\n",
       "      <td>4.3</td>\n",
       "      <td>84</td>\n",
       "      <td>0</td>\n",
       "      <td>60</td>\n",
       "      <td>192</td>\n",
       "      <td>37.5</td>\n",
       "      <td>144</td>\n",
       "      <td>88</td>\n",
       "      <td>41</td>\n",
       "      <td>48</td>\n",
       "      <td>0.85</td>\n",
       "      <td>1</td>\n",
       "    </tr>\n",
       "    <tr>\n",
       "      <th>387</th>\n",
       "      <td>388</td>\n",
       "      <td>301</td>\n",
       "      <td>90</td>\n",
       "      <td>118</td>\n",
       "      <td>2.6</td>\n",
       "      <td>89</td>\n",
       "      <td>0</td>\n",
       "      <td>61</td>\n",
       "      <td>115</td>\n",
       "      <td>21.7</td>\n",
       "      <td>218</td>\n",
       "      <td>90</td>\n",
       "      <td>31</td>\n",
       "      <td>41</td>\n",
       "      <td>0.76</td>\n",
       "      <td>0</td>\n",
       "    </tr>\n",
       "    <tr>\n",
       "      <th>388</th>\n",
       "      <td>389</td>\n",
       "      <td>232</td>\n",
       "      <td>184</td>\n",
       "      <td>114</td>\n",
       "      <td>2.0</td>\n",
       "      <td>91</td>\n",
       "      <td>0</td>\n",
       "      <td>61</td>\n",
       "      <td>127</td>\n",
       "      <td>24.0</td>\n",
       "      <td>170</td>\n",
       "      <td>82</td>\n",
       "      <td>35</td>\n",
       "      <td>38</td>\n",
       "      <td>0.92</td>\n",
       "      <td>1</td>\n",
       "    </tr>\n",
       "    <tr>\n",
       "      <th>389</th>\n",
       "      <td>390</td>\n",
       "      <td>165</td>\n",
       "      <td>94</td>\n",
       "      <td>69</td>\n",
       "      <td>2.4</td>\n",
       "      <td>92</td>\n",
       "      <td>0</td>\n",
       "      <td>62</td>\n",
       "      <td>217</td>\n",
       "      <td>39.7</td>\n",
       "      <td>160</td>\n",
       "      <td>82</td>\n",
       "      <td>51</td>\n",
       "      <td>51</td>\n",
       "      <td>1.00</td>\n",
       "      <td>0</td>\n",
       "    </tr>\n",
       "  </tbody>\n",
       "</table>\n",
       "<p>390 rows × 16 columns</p>\n",
       "</div>"
      ],
      "text/plain": [
       "     Patient_Number  Cholesterol  Glucose  HDL_Chol  Chol_HDL_Ratio  Age  \\\n",
       "0                 1          193       77        49             3.9   19   \n",
       "1                 2          146       79        41             3.6   19   \n",
       "2                 3          217       75        54             4.0   20   \n",
       "3                 4          226       97        70             3.2   20   \n",
       "4                 5          164       91        67             2.4   20   \n",
       "..              ...          ...      ...       ...             ...  ...   \n",
       "385             386          227      105        44             5.2   83   \n",
       "386             387          226      279        52             4.3   84   \n",
       "387             388          301       90       118             2.6   89   \n",
       "388             389          232      184       114             2.0   91   \n",
       "389             390          165       94        69             2.4   92   \n",
       "\n",
       "     Gender  Height  Weight   BMI  Systolic_BP  Diastolic_BP  Waist  Hip  \\\n",
       "0         0      61     119  22.5          118            70     32   38   \n",
       "1         0      60     135  26.4          108            58     33   40   \n",
       "2         0      67     187  29.3          110            72     40   45   \n",
       "3         0      64     114  19.6          122            64     31   39   \n",
       "4         0      70     141  20.2          122            86     32   39   \n",
       "..      ...     ...     ...   ...          ...           ...    ...  ...   \n",
       "385       0      59     125  25.2          150            90     35   40   \n",
       "386       0      60     192  37.5          144            88     41   48   \n",
       "387       0      61     115  21.7          218            90     31   41   \n",
       "388       0      61     127  24.0          170            82     35   38   \n",
       "389       0      62     217  39.7          160            82     51   51   \n",
       "\n",
       "     Waist_Hip_Ratio  Diabetic  \n",
       "0               0.84         0  \n",
       "1               0.83         0  \n",
       "2               0.89         0  \n",
       "3               0.79         0  \n",
       "4               0.82         0  \n",
       "..               ...       ...  \n",
       "385             0.88         0  \n",
       "386             0.85         1  \n",
       "387             0.76         0  \n",
       "388             0.92         1  \n",
       "389             1.00         0  \n",
       "\n",
       "[390 rows x 16 columns]"
      ]
     },
     "execution_count": 3,
     "metadata": {},
     "output_type": "execute_result"
    }
   ],
   "source": [
    "diabetes"
   ]
  },
  {
   "cell_type": "code",
   "execution_count": 4,
   "id": "016a3691",
   "metadata": {},
   "outputs": [],
   "source": [
    "#diabetes = diabetes.sample(frac=1) # Randomises rows which changes the accuracies of each method"
   ]
  },
  {
   "cell_type": "code",
   "execution_count": 5,
   "id": "5e073edf",
   "metadata": {},
   "outputs": [],
   "source": [
    "del diabetes['Patient_Number'] # Patient Number does not provide any meaningful information"
   ]
  },
  {
   "cell_type": "markdown",
   "id": "6044d2dd",
   "metadata": {},
   "source": [
    "# b. Difference before and after normalizing data "
   ]
  },
  {
   "cell_type": "code",
   "execution_count": 6,
   "id": "99311b8b",
   "metadata": {},
   "outputs": [
    {
     "name": "stderr",
     "output_type": "stream",
     "text": [
      "C:\\Users\\nabil\\anaconda3\\lib\\site-packages\\seaborn\\distributions.py:2557: FutureWarning: `distplot` is a deprecated function and will be removed in a future version. Please adapt your code to use either `displot` (a figure-level function with similar flexibility) or `histplot` (an axes-level function for histograms).\n",
      "  warnings.warn(msg, FutureWarning)\n"
     ]
    },
    {
     "data": {
      "image/png": "[encoded data removed]",
      "text/plain": [
       "<Figure size 432x288 with 1 Axes>"
      ]
     },
     "metadata": {
      "needs_background": "light"
     },
     "output_type": "display_data"
    }
   ],
   "source": [
    "sns.distplot(diabetes['Cholesterol']) # Using seaborn to display normal distribution\n",
    "plt.show() # Slightly skewed"
   ]
  },
  {
   "cell_type": "code",
   "execution_count": 7,
   "id": "83de3969",
   "metadata": {},
   "outputs": [],
   "source": [
    "# Using log to normalize data\n",
    "diabetes['Glucose'] = np.log(diabetes['Glucose']) \n",
    "diabetes['Cholesterol'] = np.log(diabetes['Cholesterol'])\n",
    "diabetes['HDL_Chol'] = np.log(diabetes['HDL_Chol'])\n",
    "diabetes['Systolic_BP'] = np.log(diabetes['Systolic_BP'])\n",
    "diabetes['Diastolic_BP'] = np.log(diabetes['Diastolic_BP'])\n",
    "diabetes['Height'] = np.log(diabetes['Height'])\n",
    "diabetes['Weight'] = np.log(diabetes['Weight'])\n",
    "diabetes['BMI'] = np.log(diabetes['BMI'])\n",
    "diabetes['Age'] = np.log(diabetes['Age'])\n",
    "diabetes['Hip'] = np.log(diabetes['Hip'])\n",
    "diabetes['Waist'] = np.log(diabetes['Waist'])\n",
    "diabetes['Chol_HDL_Ratio'] = np.log(diabetes['Chol_HDL_Ratio'])"
   ]
  },
  {
   "cell_type": "code",
   "execution_count": 8,
   "id": "2f64f8b8",
   "metadata": {},
   "outputs": [
    {
     "name": "stderr",
     "output_type": "stream",
     "text": [
      "C:\\Users\\nabil\\anaconda3\\lib\\site-packages\\seaborn\\distributions.py:2557: FutureWarning: `distplot` is a deprecated function and will be removed in a future version. Please adapt your code to use either `displot` (a figure-level function with similar flexibility) or `histplot` (an axes-level function for histograms).\n",
      "  warnings.warn(msg, FutureWarning)\n"
     ]
    },
    {
     "data": {
      "image/png": "[encoded data removed]",
      "text/plain": [
       "<Figure size 432x288 with 1 Axes>"
      ]
     },
     "metadata": {
      "needs_background": "light"
     },
     "output_type": "display_data"
    }
   ],
   "source": [
    "sns.distplot(diabetes['Cholesterol'])\n",
    "plt.show()"
   ]
  },
  {
   "cell_type": "markdown",
   "id": "3e11e1e0",
   "metadata": {},
   "source": [
    "# c. Stats on relationship between features and Diabetes"
   ]
  },
  {
   "cell_type": "code",
   "execution_count": 9,
   "id": "7bf6a772",
   "metadata": {},
   "outputs": [
    {
     "name": "stdout",
     "output_type": "stream",
     "text": [
      "There are 228 females and 34 are diabetic\n",
      "There are 162 males and 26 are diabetic\n"
     ]
    }
   ],
   "source": [
    "females = len(diabetes[diabetes['Gender']==0]) # Find the number of females and males\n",
    "males = len(diabetes[diabetes['Gender']==1])\n",
    "# Number of diabetic females and males\n",
    "female_diabetic = len(diabetes.loc[(diabetes['Diabetic']==1) & (diabetes['Gender']==0)]) \n",
    "male_diabetic = len(diabetes.loc[(diabetes['Diabetic']==1) & (diabetes['Gender']==1)])\n",
    "\n",
    "print('There are %s females and %s are diabetic' % (females, female_diabetic))\n",
    "print('There are %s males and %s are diabetic' % (males, male_diabetic))"
   ]
  },
  {
   "cell_type": "code",
   "execution_count": 10,
   "id": "7583a03e",
   "metadata": {},
   "outputs": [],
   "source": [
    "X = diabetes.drop(['Diabetic'],axis=1) # Could have also removed Patient_Number here\n",
    "y = diabetes['Diabetic']"
   ]
  },
  {
   "cell_type": "code",
   "execution_count": 11,
   "id": "56f9a696",
   "metadata": {},
   "outputs": [],
   "source": [
    "from sklearn.feature_selection import SelectKBest, mutual_info_classif, chi2  # Feature selection methods"
   ]
  },
  {
   "cell_type": "code",
   "execution_count": 12,
   "id": "b45d4c74",
   "metadata": {},
   "outputs": [],
   "source": [
    "kbest = SelectKBest(score_func = chi2, k = 'all') # Calling select-K-best on all features\n",
    "ordered_features = kbest.fit(X,y)"
   ]
  },
  {
   "cell_type": "code",
   "execution_count": 13,
   "id": "99d38006",
   "metadata": {},
   "outputs": [
    {
     "data": {
      "text/html": [
       "<div>\n",
       "<style scoped>\n",
       "    .dataframe tbody tr th:only-of-type {\n",
       "        vertical-align: middle;\n",
       "    }\n",
       "\n",
       "    .dataframe tbody tr th {\n",
       "        vertical-align: top;\n",
       "    }\n",
       "\n",
       "    .dataframe thead th {\n",
       "        text-align: right;\n",
       "    }\n",
       "</style>\n",
       "<table border=\"1\" class=\"dataframe\">\n",
       "  <thead>\n",
       "    <tr style=\"text-align: right;\">\n",
       "      <th></th>\n",
       "      <th>K-Score</th>\n",
       "      <th>Feature</th>\n",
       "    </tr>\n",
       "  </thead>\n",
       "  <tbody>\n",
       "    <tr>\n",
       "      <th>0</th>\n",
       "      <td>5.357492</td>\n",
       "      <td>Glucose</td>\n",
       "    </tr>\n",
       "    <tr>\n",
       "      <th>1</th>\n",
       "      <td>1.937243</td>\n",
       "      <td>Chol_HDL_Ratio</td>\n",
       "    </tr>\n",
       "    <tr>\n",
       "      <th>2</th>\n",
       "      <td>1.263011</td>\n",
       "      <td>Age</td>\n",
       "    </tr>\n",
       "    <tr>\n",
       "      <th>3</th>\n",
       "      <td>0.223215</td>\n",
       "      <td>HDL_Chol</td>\n",
       "    </tr>\n",
       "    <tr>\n",
       "      <th>4</th>\n",
       "      <td>0.141694</td>\n",
       "      <td>BMI</td>\n",
       "    </tr>\n",
       "    <tr>\n",
       "      <th>5</th>\n",
       "      <td>0.120645</td>\n",
       "      <td>Waist</td>\n",
       "    </tr>\n",
       "    <tr>\n",
       "      <th>6</th>\n",
       "      <td>0.114459</td>\n",
       "      <td>Cholesterol</td>\n",
       "    </tr>\n",
       "    <tr>\n",
       "      <th>7</th>\n",
       "      <td>0.107650</td>\n",
       "      <td>Weight</td>\n",
       "    </tr>\n",
       "    <tr>\n",
       "      <th>8</th>\n",
       "      <td>0.087975</td>\n",
       "      <td>Systolic_BP</td>\n",
       "    </tr>\n",
       "    <tr>\n",
       "      <th>9</th>\n",
       "      <td>0.072965</td>\n",
       "      <td>Waist_Hip_Ratio</td>\n",
       "    </tr>\n",
       "  </tbody>\n",
       "</table>\n",
       "</div>"
      ],
      "text/plain": [
       "    K-Score          Feature\n",
       "0  5.357492          Glucose\n",
       "1  1.937243   Chol_HDL_Ratio\n",
       "2  1.263011              Age\n",
       "3  0.223215         HDL_Chol\n",
       "4  0.141694              BMI\n",
       "5  0.120645            Waist\n",
       "6  0.114459      Cholesterol\n",
       "7  0.107650           Weight\n",
       "8  0.087975      Systolic_BP\n",
       "9  0.072965  Waist_Hip_Ratio"
      ]
     },
     "execution_count": 13,
     "metadata": {},
     "output_type": "execute_result"
    }
   ],
   "source": [
    "df_scores = pd.DataFrame(ordered_features.scores_, columns=['K-Score'])\n",
    "df_columns = pd.DataFrame(X.columns, columns = ['Feature'])\n",
    "feature_rank = pd.concat([df_scores,df_columns],axis=1) # Combine both dataframes that contain feature and corresponding score\n",
    "feature_rank.nlargest(10,'K-Score')[:10].reset_index(drop=True)"
   ]
  },
  {
   "cell_type": "code",
   "execution_count": 14,
   "id": "6951951f",
   "metadata": {},
   "outputs": [
    {
     "data": {
      "text/plain": [
       "Glucose            0.216746\n",
       "Waist_Hip_Ratio    0.032711\n",
       "Chol_HDL_Ratio     0.031676\n",
       "Age                0.024232\n",
       "BMI                0.022523\n",
       "Hip                0.021528\n",
       "Gender             0.015548\n",
       "Weight             0.012471\n",
       "Waist              0.010667\n",
       "Systolic_BP        0.005573\n",
       "dtype: float64"
      ]
     },
     "execution_count": 14,
     "metadata": {},
     "output_type": "execute_result"
    }
   ],
   "source": [
    "mu_ifo = mutual_info_classif(X,y)\n",
    "mu_data = pd.Series(mu_ifo, index = X.columns)\n",
    "mu_data.sort_values(ascending=False)[:10]"
   ]
  },
  {
   "cell_type": "code",
   "execution_count": 15,
   "id": "ca78d26f",
   "metadata": {},
   "outputs": [
    {
     "data": {
      "text/plain": [
       "ExtraTreesClassifier()"
      ]
     },
     "execution_count": 15,
     "metadata": {},
     "output_type": "execute_result"
    }
   ],
   "source": [
    "from sklearn.ensemble import ExtraTreesClassifier\n",
    "model = ExtraTreesClassifier()\n",
    "model.fit(X,y)"
   ]
  },
  {
   "cell_type": "code",
   "execution_count": 16,
   "id": "cd74731a",
   "metadata": {},
   "outputs": [
    {
     "data": {
      "text/plain": [
       "<AxesSubplot:>"
      ]
     },
     "execution_count": 16,
     "metadata": {},
     "output_type": "execute_result"
    },
    {
     "data": {
      "image/png": "[encoded data removed]",
      "text/plain": [
       "<Figure size 432x288 with 1 Axes>"
      ]
     },
     "metadata": {
      "needs_background": "light"
     },
     "output_type": "display_data"
    }
   ],
   "source": [
    "ranked_features = pd.Series(model.feature_importances_, index = X.columns)\n",
    "ranked_features.nlargest(10).plot(kind='bar') # Displaying results as bar chart"
   ]
  },
  {
   "cell_type": "code",
   "execution_count": 17,
   "id": "ff085b4c",
   "metadata": {},
   "outputs": [
    {
     "data": {
      "text/plain": [
       "<AxesSubplot:>"
      ]
     },
     "execution_count": 17,
     "metadata": {},
     "output_type": "execute_result"
    },
    {
     "data": {
      "image/png": "[encoded data removed]",
      "text/plain": [
       "<Figure size 1080x720 with 2 Axes>"
      ]
     },
     "metadata": {
      "needs_background": "light"
     },
     "output_type": "display_data"
    }
   ],
   "source": [
    "corr=diabetes.corr() # Viewing the correlation between features\n",
    "plt.figure(figsize=(15,10)) # 0=No correlation, 1=Perfect correlation\n",
    "sns.heatmap(corr, annot = True, cmap=\"coolwarm\")"
   ]
  },
  {
   "cell_type": "code",
   "execution_count": 18,
   "id": "f17c8301",
   "metadata": {},
   "outputs": [
    {
     "data": {
      "text/plain": [
       "(4.356708826689592, 6.093569770045136)"
      ]
     },
     "execution_count": 18,
     "metadata": {},
     "output_type": "execute_result"
    },
    {
     "data": {
      "image/png": "[encoded data removed]",
      "text/plain": [
       "<Figure size 432x288 with 1 Axes>"
      ]
     },
     "metadata": {
      "needs_background": "light"
     },
     "output_type": "display_data"
    }
   ],
   "source": [
    "x = diabetes['Glucose'].values  #X-Axis - Glucose\n",
    "y = diabetes['Cholesterol'].values  #Y-Axis - Cholesterol\n",
    "diabetic = diabetes['Diabetic'].values  # Patients who are diabetic\n",
    "\n",
    "plt.figure()\n",
    "plt.title('Correlation between Cholesterol and Glucose')\n",
    "plt.scatter(x,y,c=diabetic,cmap='crest_r',marker='x')\n",
    "\n",
    "plt.xlabel('Glucose')\n",
    "plt.ylabel('Diabetic')\n",
    "plt.xlim(x.min(), x.max())\n",
    "plt.ylim(y.min(), y.max()) "
   ]
  },
  {
   "cell_type": "markdown",
   "id": "41afdb3f",
   "metadata": {},
   "source": [
    "# 1. SVC"
   ]
  },
  {
   "cell_type": "code",
   "execution_count": 19,
   "id": "77a6b9bc",
   "metadata": {},
   "outputs": [],
   "source": [
    "x = diabetes[['Glucose','Age']].values # Binary features to train\n",
    "y = diabetes['Diabetic'].values"
   ]
  },
  {
   "cell_type": "code",
   "execution_count": 20,
   "id": "7247493a",
   "metadata": {},
   "outputs": [],
   "source": [
    "from sklearn import svm\n",
    "svc = svm.SVC(kernel='linear').fit(x,y)"
   ]
  },
  {
   "cell_type": "code",
   "execution_count": 21,
   "id": "d421c5c8",
   "metadata": {},
   "outputs": [
    {
     "data": {
      "text/plain": [
       "(3.0, 6.5, 2.0, 5.5)"
      ]
     },
     "execution_count": 21,
     "metadata": {},
     "output_type": "execute_result"
    },
    {
     "data": {
      "image/png": "[encoded data removed]",
      "text/plain": [
       "<Figure size 432x288 with 1 Axes>"
      ]
     },
     "metadata": {
      "needs_background": "light"
     },
     "output_type": "display_data"
    }
   ],
   "source": [
    "X,Y = np.mgrid[1:8:200j,1:8:200j]\n",
    "Z = svc.decision_function(np.c_[X.ravel(),Y.ravel()])\n",
    "Z = Z.reshape(X.shape)\n",
    "plt.contourf(X,Y,Z > 0,alpha=0.6,cmap='coolwarm')\n",
    "plt.contour(X,Y,Z,colors=['r','k','b'],linestyles=['--','-','--'],levels=[-1,0,1])\n",
    "\n",
    "plt.scatter(x[:,0],x[:,1],c=y,s=25,alpha=0.9,cmap='terrain')\n",
    "plt.axis([3, 6.5, 2, 5.5])"
   ]
  },
  {
   "cell_type": "markdown",
   "id": "6dc87041",
   "metadata": {},
   "source": [
    "# 2.a. Logistic Regression"
   ]
  },
  {
   "cell_type": "code",
   "execution_count": 22,
   "id": "1130eb15",
   "metadata": {},
   "outputs": [],
   "source": [
    "logisticReg = linear_model.LogisticRegression(max_iter=200)"
   ]
  },
  {
   "cell_type": "code",
   "execution_count": 23,
   "id": "7500d9d5",
   "metadata": {},
   "outputs": [],
   "source": [
    "train = diabetes.drop(['Diabetic'],axis=1) # Features to train data on excluding target 'Diabetic'"
   ]
  },
  {
   "cell_type": "code",
   "execution_count": 24,
   "id": "eaad2182",
   "metadata": {},
   "outputs": [],
   "source": [
    "from sklearn.model_selection import train_test_split\n",
    "x_train, x_test, y_train, y_test = train_test_split(train, diabetes['Diabetic'], test_size=0.20, random_state=0)"
   ]
  },
  {
   "cell_type": "code",
   "execution_count": 25,
   "id": "b44e815a",
   "metadata": {},
   "outputs": [
    {
     "data": {
      "text/html": [
       "<div>\n",
       "<style scoped>\n",
       "    .dataframe tbody tr th:only-of-type {\n",
       "        vertical-align: middle;\n",
       "    }\n",
       "\n",
       "    .dataframe tbody tr th {\n",
       "        vertical-align: top;\n",
       "    }\n",
       "\n",
       "    .dataframe thead th {\n",
       "        text-align: right;\n",
       "    }\n",
       "</style>\n",
       "<table border=\"1\" class=\"dataframe\">\n",
       "  <thead>\n",
       "    <tr style=\"text-align: right;\">\n",
       "      <th></th>\n",
       "      <th>Cholesterol</th>\n",
       "      <th>Glucose</th>\n",
       "      <th>HDL_Chol</th>\n",
       "      <th>Chol_HDL_Ratio</th>\n",
       "      <th>Age</th>\n",
       "      <th>Gender</th>\n",
       "      <th>Height</th>\n",
       "      <th>Weight</th>\n",
       "      <th>BMI</th>\n",
       "      <th>Systolic_BP</th>\n",
       "      <th>Diastolic_BP</th>\n",
       "      <th>Waist</th>\n",
       "      <th>Hip</th>\n",
       "      <th>Waist_Hip_Ratio</th>\n",
       "    </tr>\n",
       "  </thead>\n",
       "  <tbody>\n",
       "    <tr>\n",
       "      <th>289</th>\n",
       "      <td>5.666427</td>\n",
       "      <td>5.587249</td>\n",
       "      <td>3.637586</td>\n",
       "      <td>2.028148</td>\n",
       "      <td>4.077537</td>\n",
       "      <td>1</td>\n",
       "      <td>4.219508</td>\n",
       "      <td>5.129899</td>\n",
       "      <td>3.246491</td>\n",
       "      <td>4.955827</td>\n",
       "      <td>4.369448</td>\n",
       "      <td>3.583519</td>\n",
       "      <td>3.637586</td>\n",
       "      <td>0.95</td>\n",
       "    </tr>\n",
       "    <tr>\n",
       "      <th>56</th>\n",
       "      <td>5.241747</td>\n",
       "      <td>4.564348</td>\n",
       "      <td>3.850148</td>\n",
       "      <td>1.386294</td>\n",
       "      <td>3.332205</td>\n",
       "      <td>0</td>\n",
       "      <td>4.158883</td>\n",
       "      <td>5.298317</td>\n",
       "      <td>3.535145</td>\n",
       "      <td>4.912655</td>\n",
       "      <td>3.951244</td>\n",
       "      <td>3.637586</td>\n",
       "      <td>3.806662</td>\n",
       "      <td>0.84</td>\n",
       "    </tr>\n",
       "    <tr>\n",
       "      <th>8</th>\n",
       "      <td>5.438079</td>\n",
       "      <td>4.718499</td>\n",
       "      <td>4.158883</td>\n",
       "      <td>1.280934</td>\n",
       "      <td>2.995732</td>\n",
       "      <td>1</td>\n",
       "      <td>4.204693</td>\n",
       "      <td>5.068904</td>\n",
       "      <td>3.214868</td>\n",
       "      <td>4.605170</td>\n",
       "      <td>4.499810</td>\n",
       "      <td>3.433987</td>\n",
       "      <td>3.663562</td>\n",
       "      <td>0.79</td>\n",
       "    </tr>\n",
       "    <tr>\n",
       "      <th>264</th>\n",
       "      <td>5.159055</td>\n",
       "      <td>4.532599</td>\n",
       "      <td>4.343805</td>\n",
       "      <td>0.832909</td>\n",
       "      <td>4.007333</td>\n",
       "      <td>1</td>\n",
       "      <td>4.248495</td>\n",
       "      <td>4.941642</td>\n",
       "      <td>3.000720</td>\n",
       "      <td>4.770685</td>\n",
       "      <td>4.454347</td>\n",
       "      <td>3.465736</td>\n",
       "      <td>3.496508</td>\n",
       "      <td>0.97</td>\n",
       "    </tr>\n",
       "    <tr>\n",
       "      <th>134</th>\n",
       "      <td>5.370638</td>\n",
       "      <td>4.852030</td>\n",
       "      <td>3.526361</td>\n",
       "      <td>1.840550</td>\n",
       "      <td>3.637586</td>\n",
       "      <td>0</td>\n",
       "      <td>4.060443</td>\n",
       "      <td>5.273000</td>\n",
       "      <td>3.708682</td>\n",
       "      <td>4.624973</td>\n",
       "      <td>4.219508</td>\n",
       "      <td>3.737670</td>\n",
       "      <td>3.912023</td>\n",
       "      <td>0.84</td>\n",
       "    </tr>\n",
       "    <tr>\n",
       "      <th>...</th>\n",
       "      <td>...</td>\n",
       "      <td>...</td>\n",
       "      <td>...</td>\n",
       "      <td>...</td>\n",
       "      <td>...</td>\n",
       "      <td>...</td>\n",
       "      <td>...</td>\n",
       "      <td>...</td>\n",
       "      <td>...</td>\n",
       "      <td>...</td>\n",
       "      <td>...</td>\n",
       "      <td>...</td>\n",
       "      <td>...</td>\n",
       "      <td>...</td>\n",
       "    </tr>\n",
       "    <tr>\n",
       "      <th>323</th>\n",
       "      <td>5.308268</td>\n",
       "      <td>4.394449</td>\n",
       "      <td>4.007333</td>\n",
       "      <td>1.308333</td>\n",
       "      <td>4.158883</td>\n",
       "      <td>0</td>\n",
       "      <td>4.127134</td>\n",
       "      <td>5.117994</td>\n",
       "      <td>3.417727</td>\n",
       "      <td>5.247024</td>\n",
       "      <td>4.770685</td>\n",
       "      <td>3.784190</td>\n",
       "      <td>3.850148</td>\n",
       "      <td>0.94</td>\n",
       "    </tr>\n",
       "    <tr>\n",
       "      <th>192</th>\n",
       "      <td>5.560682</td>\n",
       "      <td>4.204693</td>\n",
       "      <td>3.828641</td>\n",
       "      <td>1.740466</td>\n",
       "      <td>3.784190</td>\n",
       "      <td>0</td>\n",
       "      <td>4.127134</td>\n",
       "      <td>5.068904</td>\n",
       "      <td>3.370738</td>\n",
       "      <td>4.941642</td>\n",
       "      <td>4.543295</td>\n",
       "      <td>3.583519</td>\n",
       "      <td>3.761200</td>\n",
       "      <td>0.84</td>\n",
       "    </tr>\n",
       "    <tr>\n",
       "      <th>117</th>\n",
       "      <td>5.501258</td>\n",
       "      <td>4.779123</td>\n",
       "      <td>3.258097</td>\n",
       "      <td>2.240710</td>\n",
       "      <td>3.583519</td>\n",
       "      <td>1</td>\n",
       "      <td>4.189655</td>\n",
       "      <td>5.187386</td>\n",
       "      <td>3.363842</td>\n",
       "      <td>5.010635</td>\n",
       "      <td>4.521789</td>\n",
       "      <td>3.610918</td>\n",
       "      <td>3.737670</td>\n",
       "      <td>0.88</td>\n",
       "    </tr>\n",
       "    <tr>\n",
       "      <th>47</th>\n",
       "      <td>5.318120</td>\n",
       "      <td>4.127134</td>\n",
       "      <td>4.248495</td>\n",
       "      <td>1.064711</td>\n",
       "      <td>3.295837</td>\n",
       "      <td>0</td>\n",
       "      <td>4.204693</td>\n",
       "      <td>5.220356</td>\n",
       "      <td>3.367296</td>\n",
       "      <td>4.700480</td>\n",
       "      <td>4.499810</td>\n",
       "      <td>3.555348</td>\n",
       "      <td>3.784190</td>\n",
       "      <td>0.80</td>\n",
       "    </tr>\n",
       "    <tr>\n",
       "      <th>172</th>\n",
       "      <td>5.262690</td>\n",
       "      <td>4.343805</td>\n",
       "      <td>3.806662</td>\n",
       "      <td>1.458615</td>\n",
       "      <td>3.737670</td>\n",
       "      <td>0</td>\n",
       "      <td>4.317488</td>\n",
       "      <td>5.225747</td>\n",
       "      <td>3.144152</td>\n",
       "      <td>4.828314</td>\n",
       "      <td>4.499810</td>\n",
       "      <td>3.610918</td>\n",
       "      <td>3.828641</td>\n",
       "      <td>0.80</td>\n",
       "    </tr>\n",
       "  </tbody>\n",
       "</table>\n",
       "<p>312 rows × 14 columns</p>\n",
       "</div>"
      ],
      "text/plain": [
       "     Cholesterol   Glucose  HDL_Chol  Chol_HDL_Ratio       Age  Gender  \\\n",
       "289     5.666427  5.587249  3.637586        2.028148  4.077537       1   \n",
       "56      5.241747  4.564348  3.850148        1.386294  3.332205       0   \n",
       "8       5.438079  4.718499  4.158883        1.280934  2.995732       1   \n",
       "264     5.159055  4.532599  4.343805        0.832909  4.007333       1   \n",
       "134     5.370638  4.852030  3.526361        1.840550  3.637586       0   \n",
       "..           ...       ...       ...             ...       ...     ...   \n",
       "323     5.308268  4.394449  4.007333        1.308333  4.158883       0   \n",
       "192     5.560682  4.204693  3.828641        1.740466  3.784190       0   \n",
       "117     5.501258  4.779123  3.258097        2.240710  3.583519       1   \n",
       "47      5.318120  4.127134  4.248495        1.064711  3.295837       0   \n",
       "172     5.262690  4.343805  3.806662        1.458615  3.737670       0   \n",
       "\n",
       "       Height    Weight       BMI  Systolic_BP  Diastolic_BP     Waist  \\\n",
       "289  4.219508  5.129899  3.246491     4.955827      4.369448  3.583519   \n",
       "56   4.158883  5.298317  3.535145     4.912655      3.951244  3.637586   \n",
       "8    4.204693  5.068904  3.214868     4.605170      4.499810  3.433987   \n",
       "264  4.248495  4.941642  3.000720     4.770685      4.454347  3.465736   \n",
       "134  4.060443  5.273000  3.708682     4.624973      4.219508  3.737670   \n",
       "..        ...       ...       ...          ...           ...       ...   \n",
       "323  4.127134  5.117994  3.417727     5.247024      4.770685  3.784190   \n",
       "192  4.127134  5.068904  3.370738     4.941642      4.543295  3.583519   \n",
       "117  4.189655  5.187386  3.363842     5.010635      4.521789  3.610918   \n",
       "47   4.204693  5.220356  3.367296     4.700480      4.499810  3.555348   \n",
       "172  4.317488  5.225747  3.144152     4.828314      4.499810  3.610918   \n",
       "\n",
       "          Hip  Waist_Hip_Ratio  \n",
       "289  3.637586             0.95  \n",
       "56   3.806662             0.84  \n",
       "8    3.663562             0.79  \n",
       "264  3.496508             0.97  \n",
       "134  3.912023             0.84  \n",
       "..        ...              ...  \n",
       "323  3.850148             0.94  \n",
       "192  3.761200             0.84  \n",
       "117  3.737670             0.88  \n",
       "47   3.784190             0.80  \n",
       "172  3.828641             0.80  \n",
       "\n",
       "[312 rows x 14 columns]"
      ]
     },
     "execution_count": 25,
     "metadata": {},
     "output_type": "execute_result"
    }
   ],
   "source": [
    "x_train"
   ]
  },
  {
   "cell_type": "code",
   "execution_count": 26,
   "id": "b8d57dc5",
   "metadata": {},
   "outputs": [
    {
     "data": {
      "text/plain": [
       "LogisticRegression(max_iter=200)"
      ]
     },
     "execution_count": 26,
     "metadata": {},
     "output_type": "execute_result"
    }
   ],
   "source": [
    "logisticReg.fit(x_train,y_train)"
   ]
  },
  {
   "cell_type": "code",
   "execution_count": 27,
   "id": "2a9f3d11",
   "metadata": {},
   "outputs": [
    {
     "data": {
      "text/plain": [
       "array([0, 0, 0, 0, 0, 1, 1, 0, 0, 0], dtype=int64)"
      ]
     },
     "execution_count": 27,
     "metadata": {},
     "output_type": "execute_result"
    }
   ],
   "source": [
    "logisticReg.predict(x_test)[:10] # Display first 10 predictions"
   ]
  },
  {
   "cell_type": "code",
   "execution_count": 28,
   "id": "da61e439",
   "metadata": {},
   "outputs": [
    {
     "data": {
      "text/plain": [
       "array([0, 0, 0, 0, 0, 1, 1, 0, 0, 0], dtype=int64)"
      ]
     },
     "execution_count": 28,
     "metadata": {},
     "output_type": "execute_result"
    }
   ],
   "source": [
    "y_test.to_numpy()[:10] # Score function prefers arrays instead of vector"
   ]
  },
  {
   "cell_type": "markdown",
   "id": "9af01ba2",
   "metadata": {},
   "source": [
    "# 2.b. LogisticReg Analysis"
   ]
  },
  {
   "cell_type": "code",
   "execution_count": 29,
   "id": "9888bbd0",
   "metadata": {},
   "outputs": [
    {
     "data": {
      "text/plain": [
       "0.9230769230769231"
      ]
     },
     "execution_count": 29,
     "metadata": {},
     "output_type": "execute_result"
    }
   ],
   "source": [
    "logisticReg.score(x_test,y_test)"
   ]
  },
  {
   "cell_type": "code",
   "execution_count": 30,
   "id": "2f5c2a22",
   "metadata": {},
   "outputs": [],
   "source": [
    "y_preds = logisticReg.predict(x_test)"
   ]
  },
  {
   "cell_type": "code",
   "execution_count": 31,
   "id": "994f543f",
   "metadata": {},
   "outputs": [],
   "source": [
    "from sklearn.metrics import confusion_matrix\n",
    "cm = confusion_matrix(y_test,y_preds) # Confusion matrix showing TP,TN,FP,FN"
   ]
  },
  {
   "cell_type": "code",
   "execution_count": 32,
   "id": "746de90b",
   "metadata": {},
   "outputs": [
    {
     "data": {
      "text/plain": [
       "<AxesSubplot:>"
      ]
     },
     "execution_count": 32,
     "metadata": {},
     "output_type": "execute_result"
    },
    {
     "data": {
      "image/png": "[encoded data removed]",
      "text/plain": [
       "<Figure size 432x288 with 2 Axes>"
      ]
     },
     "metadata": {
      "needs_background": "light"
     },
     "output_type": "display_data"
    }
   ],
   "source": [
    "sns.heatmap(cm,annot=True)"
   ]
  },
  {
   "cell_type": "markdown",
   "id": "08996364",
   "metadata": {},
   "source": [
    "# 3. K-nearest neighbours Classification"
   ]
  },
  {
   "cell_type": "code",
   "execution_count": 33,
   "id": "5b745d12",
   "metadata": {},
   "outputs": [
    {
     "data": {
      "text/html": [
       "<div>\n",
       "<style scoped>\n",
       "    .dataframe tbody tr th:only-of-type {\n",
       "        vertical-align: middle;\n",
       "    }\n",
       "\n",
       "    .dataframe tbody tr th {\n",
       "        vertical-align: top;\n",
       "    }\n",
       "\n",
       "    .dataframe thead th {\n",
       "        text-align: right;\n",
       "    }\n",
       "</style>\n",
       "<table border=\"1\" class=\"dataframe\">\n",
       "  <thead>\n",
       "    <tr style=\"text-align: right;\">\n",
       "      <th></th>\n",
       "      <th>Glucose</th>\n",
       "      <th>Cholesterol</th>\n",
       "      <th>Waist</th>\n",
       "      <th>Age</th>\n",
       "      <th>Chol_HDL_Ratio</th>\n",
       "      <th>BMI</th>\n",
       "      <th>Weight</th>\n",
       "      <th>Waist_Hip_Ratio</th>\n",
       "      <th>Hip</th>\n",
       "    </tr>\n",
       "  </thead>\n",
       "  <tbody>\n",
       "    <tr>\n",
       "      <th>0</th>\n",
       "      <td>4.343805</td>\n",
       "      <td>5.262690</td>\n",
       "      <td>3.465736</td>\n",
       "      <td>2.944439</td>\n",
       "      <td>1.360977</td>\n",
       "      <td>3.113515</td>\n",
       "      <td>4.779123</td>\n",
       "      <td>0.84</td>\n",
       "      <td>3.637586</td>\n",
       "    </tr>\n",
       "    <tr>\n",
       "      <th>1</th>\n",
       "      <td>4.369448</td>\n",
       "      <td>4.983607</td>\n",
       "      <td>3.496508</td>\n",
       "      <td>2.944439</td>\n",
       "      <td>1.280934</td>\n",
       "      <td>3.273364</td>\n",
       "      <td>4.905275</td>\n",
       "      <td>0.83</td>\n",
       "      <td>3.688879</td>\n",
       "    </tr>\n",
       "    <tr>\n",
       "      <th>2</th>\n",
       "      <td>4.317488</td>\n",
       "      <td>5.379897</td>\n",
       "      <td>3.688879</td>\n",
       "      <td>2.995732</td>\n",
       "      <td>1.386294</td>\n",
       "      <td>3.377588</td>\n",
       "      <td>5.231109</td>\n",
       "      <td>0.89</td>\n",
       "      <td>3.806662</td>\n",
       "    </tr>\n",
       "    <tr>\n",
       "      <th>3</th>\n",
       "      <td>4.574711</td>\n",
       "      <td>5.420535</td>\n",
       "      <td>3.433987</td>\n",
       "      <td>2.995732</td>\n",
       "      <td>1.163151</td>\n",
       "      <td>2.975530</td>\n",
       "      <td>4.736198</td>\n",
       "      <td>0.79</td>\n",
       "      <td>3.663562</td>\n",
       "    </tr>\n",
       "    <tr>\n",
       "      <th>4</th>\n",
       "      <td>4.510860</td>\n",
       "      <td>5.099866</td>\n",
       "      <td>3.465736</td>\n",
       "      <td>2.995732</td>\n",
       "      <td>0.875469</td>\n",
       "      <td>3.005683</td>\n",
       "      <td>4.948760</td>\n",
       "      <td>0.82</td>\n",
       "      <td>3.663562</td>\n",
       "    </tr>\n",
       "    <tr>\n",
       "      <th>...</th>\n",
       "      <td>...</td>\n",
       "      <td>...</td>\n",
       "      <td>...</td>\n",
       "      <td>...</td>\n",
       "      <td>...</td>\n",
       "      <td>...</td>\n",
       "      <td>...</td>\n",
       "      <td>...</td>\n",
       "      <td>...</td>\n",
       "    </tr>\n",
       "    <tr>\n",
       "      <th>385</th>\n",
       "      <td>4.653960</td>\n",
       "      <td>5.424950</td>\n",
       "      <td>3.555348</td>\n",
       "      <td>4.418841</td>\n",
       "      <td>1.648659</td>\n",
       "      <td>3.226844</td>\n",
       "      <td>4.828314</td>\n",
       "      <td>0.88</td>\n",
       "      <td>3.688879</td>\n",
       "    </tr>\n",
       "    <tr>\n",
       "      <th>386</th>\n",
       "      <td>5.631212</td>\n",
       "      <td>5.420535</td>\n",
       "      <td>3.713572</td>\n",
       "      <td>4.430817</td>\n",
       "      <td>1.458615</td>\n",
       "      <td>3.624341</td>\n",
       "      <td>5.257495</td>\n",
       "      <td>0.85</td>\n",
       "      <td>3.871201</td>\n",
       "    </tr>\n",
       "    <tr>\n",
       "      <th>387</th>\n",
       "      <td>4.499810</td>\n",
       "      <td>5.707110</td>\n",
       "      <td>3.433987</td>\n",
       "      <td>4.488636</td>\n",
       "      <td>0.955511</td>\n",
       "      <td>3.077312</td>\n",
       "      <td>4.744932</td>\n",
       "      <td>0.76</td>\n",
       "      <td>3.713572</td>\n",
       "    </tr>\n",
       "    <tr>\n",
       "      <th>388</th>\n",
       "      <td>5.214936</td>\n",
       "      <td>5.446737</td>\n",
       "      <td>3.555348</td>\n",
       "      <td>4.510860</td>\n",
       "      <td>0.693147</td>\n",
       "      <td>3.178054</td>\n",
       "      <td>4.844187</td>\n",
       "      <td>0.92</td>\n",
       "      <td>3.637586</td>\n",
       "    </tr>\n",
       "    <tr>\n",
       "      <th>389</th>\n",
       "      <td>4.543295</td>\n",
       "      <td>5.105945</td>\n",
       "      <td>3.931826</td>\n",
       "      <td>4.521789</td>\n",
       "      <td>0.875469</td>\n",
       "      <td>3.681351</td>\n",
       "      <td>5.379897</td>\n",
       "      <td>1.00</td>\n",
       "      <td>3.931826</td>\n",
       "    </tr>\n",
       "  </tbody>\n",
       "</table>\n",
       "<p>390 rows × 9 columns</p>\n",
       "</div>"
      ],
      "text/plain": [
       "      Glucose  Cholesterol     Waist       Age  Chol_HDL_Ratio       BMI  \\\n",
       "0    4.343805     5.262690  3.465736  2.944439        1.360977  3.113515   \n",
       "1    4.369448     4.983607  3.496508  2.944439        1.280934  3.273364   \n",
       "2    4.317488     5.379897  3.688879  2.995732        1.386294  3.377588   \n",
       "3    4.574711     5.420535  3.433987  2.995732        1.163151  2.975530   \n",
       "4    4.510860     5.099866  3.465736  2.995732        0.875469  3.005683   \n",
       "..        ...          ...       ...       ...             ...       ...   \n",
       "385  4.653960     5.424950  3.555348  4.418841        1.648659  3.226844   \n",
       "386  5.631212     5.420535  3.713572  4.430817        1.458615  3.624341   \n",
       "387  4.499810     5.707110  3.433987  4.488636        0.955511  3.077312   \n",
       "388  5.214936     5.446737  3.555348  4.510860        0.693147  3.178054   \n",
       "389  4.543295     5.105945  3.931826  4.521789        0.875469  3.681351   \n",
       "\n",
       "       Weight  Waist_Hip_Ratio       Hip  \n",
       "0    4.779123             0.84  3.637586  \n",
       "1    4.905275             0.83  3.688879  \n",
       "2    5.231109             0.89  3.806662  \n",
       "3    4.736198             0.79  3.663562  \n",
       "4    4.948760             0.82  3.663562  \n",
       "..        ...              ...       ...  \n",
       "385  4.828314             0.88  3.688879  \n",
       "386  5.257495             0.85  3.871201  \n",
       "387  4.744932             0.76  3.713572  \n",
       "388  4.844187             0.92  3.637586  \n",
       "389  5.379897             1.00  3.931826  \n",
       "\n",
       "[390 rows x 9 columns]"
      ]
     },
     "execution_count": 33,
     "metadata": {},
     "output_type": "execute_result"
    }
   ],
   "source": [
    "# Need to select variables that are necessary for predictions (i.e., most predictive)\n",
    "training = diabetes[['Glucose','Cholesterol','Waist','Age','Chol_HDL_Ratio','BMI','Weight','Waist_Hip_Ratio','Hip']] \n",
    "training"
   ]
  },
  {
   "cell_type": "code",
   "execution_count": 34,
   "id": "83f2f15d",
   "metadata": {},
   "outputs": [],
   "source": [
    "# I am going to be splitting the data into a ratio of 80/20, training and testing respectively\n",
    "\n",
    "x_train = training[:int(len(training)*0.8)]\n",
    "y_train = diabetes[['Diabetic']][:int(len(training)*0.8)]\n",
    "\n",
    "x_test = training[int(len(training)*0.8):]\n",
    "y_test = diabetes[['Diabetic']][int(len(training)*0.8):]"
   ]
  },
  {
   "cell_type": "code",
   "execution_count": 35,
   "id": "e1491d3c",
   "metadata": {},
   "outputs": [],
   "source": [
    "y_train = np.array(y_train).reshape(312,) # Reshaping since function below prefers an array instead of vector"
   ]
  },
  {
   "cell_type": "code",
   "execution_count": 36,
   "id": "2c569881",
   "metadata": {},
   "outputs": [
    {
     "data": {
      "text/plain": [
       "KNeighborsClassifier()"
      ]
     },
     "execution_count": 36,
     "metadata": {},
     "output_type": "execute_result"
    }
   ],
   "source": [
    "from sklearn.neighbors import KNeighborsClassifier\n",
    "knn = KNeighborsClassifier(n_neighbors=5) # Best score with default 5 k neighbours\n",
    "knn.fit(x_train, y_train)"
   ]
  },
  {
   "cell_type": "code",
   "execution_count": 37,
   "id": "3d27c614",
   "metadata": {},
   "outputs": [
    {
     "data": {
      "text/plain": [
       "array([0, 0, 0, 0, 0, 0, 0, 0, 0, 0, 1, 0, 0, 1, 0, 1, 0, 0, 0, 0, 1, 1,\n",
       "       0, 0, 0, 0, 1, 0, 1, 0, 0, 0, 0, 0, 1, 0, 0, 0, 0, 0, 1, 0, 0, 0,\n",
       "       0, 1, 0, 0, 0, 0, 0, 0, 0, 0, 1, 0, 1, 0, 0, 0, 0, 0, 0, 0, 0, 1,\n",
       "       0, 1, 0, 0, 0, 0, 0, 0, 1, 0, 1, 0], dtype=int64)"
      ]
     },
     "execution_count": 37,
     "metadata": {},
     "output_type": "execute_result"
    }
   ],
   "source": [
    "knn.predict(x_test)"
   ]
  },
  {
   "cell_type": "code",
   "execution_count": 38,
   "id": "0e0fcdc9",
   "metadata": {},
   "outputs": [
    {
     "data": {
      "text/plain": [
       "array([0, 0, 0, 0, 0, 0, 0, 0, 1, 1, 1, 0, 0, 1, 1, 1, 0, 0, 0, 0, 1, 1,\n",
       "       0, 0, 0, 0, 0, 1, 1, 0, 0, 0, 1, 0, 0, 0, 0, 0, 0, 0, 1, 1, 0, 0,\n",
       "       0, 1, 0, 0, 0, 1, 0, 1, 0, 0, 1, 0, 1, 0, 0, 0, 0, 1, 0, 0, 0, 0,\n",
       "       0, 1, 0, 1, 0, 0, 0, 0, 1, 0, 1, 0], dtype=int64)"
      ]
     },
     "execution_count": 38,
     "metadata": {},
     "output_type": "execute_result"
    }
   ],
   "source": [
    "np.array(y_test).reshape(78,)"
   ]
  },
  {
   "cell_type": "markdown",
   "id": "49c5c448",
   "metadata": {},
   "source": [
    "# 3.b. KNN Analysis"
   ]
  },
  {
   "cell_type": "code",
   "execution_count": 39,
   "id": "ceaf7e42",
   "metadata": {},
   "outputs": [
    {
     "data": {
      "text/plain": [
       "0.8333333333333334"
      ]
     },
     "execution_count": 39,
     "metadata": {},
     "output_type": "execute_result"
    }
   ],
   "source": [
    "knn.score(x_test, y_test)"
   ]
  },
  {
   "cell_type": "code",
   "execution_count": 40,
   "id": "7921dd28",
   "metadata": {},
   "outputs": [],
   "source": [
    "y_preds = knn.predict(x_test)"
   ]
  },
  {
   "cell_type": "code",
   "execution_count": 41,
   "id": "45f012ac",
   "metadata": {},
   "outputs": [],
   "source": [
    "from sklearn.metrics import confusion_matrix\n",
    "cm = confusion_matrix(y_test,y_preds)"
   ]
  },
  {
   "cell_type": "code",
   "execution_count": 42,
   "id": "3fff6679",
   "metadata": {},
   "outputs": [
    {
     "data": {
      "text/plain": [
       "<AxesSubplot:>"
      ]
     },
     "execution_count": 42,
     "metadata": {},
     "output_type": "execute_result"
    },
    {
     "data": {
      "image/png": "[encoded data removed]",
      "text/plain": [
       "<Figure size 432x288 with 2 Axes>"
      ]
     },
     "metadata": {
      "needs_background": "light"
     },
     "output_type": "display_data"
    }
   ],
   "source": [
    "sns.heatmap(cm,annot=True,cmap='coolwarm')"
   ]
  },
  {
   "cell_type": "markdown",
   "id": "030bbee3",
   "metadata": {},
   "source": [
    "# Cross-Validation"
   ]
  },
  {
   "cell_type": "code",
   "execution_count": 43,
   "id": "1ccb502e",
   "metadata": {},
   "outputs": [],
   "source": [
    "from sklearn.model_selection import cross_val_score"
   ]
  },
  {
   "cell_type": "code",
   "execution_count": 44,
   "id": "a5524867",
   "metadata": {},
   "outputs": [],
   "source": [
    "# Using pre-defined function classify to produce accuracies for each data analytic method\n",
    "def classify(model, x, y):\n",
    "    model.fit(x_train,y_train)\n",
    "    print('Accuracy is: ', model.score(x_test,y_test)*100)\n",
    "    score = cross_val_score(model,x,y,cv=5)                  # we set the number of folds to 5\n",
    "    print('Cross validation Accuracy: ', np.mean(score)*100)"
   ]
  },
  {
   "cell_type": "code",
   "execution_count": 45,
   "id": "21d23c6d",
   "metadata": {},
   "outputs": [],
   "source": [
    "y_test = np.array(y_test).reshape(78,)"
   ]
  },
  {
   "cell_type": "code",
   "execution_count": 46,
   "id": "ee4e641a",
   "metadata": {},
   "outputs": [
    {
     "name": "stdout",
     "output_type": "stream",
     "text": [
      "##########\n",
      "SVC\n",
      "Accuracy is:  85.8974358974359\n",
      "Cross validation Accuracy:  91.7948717948718\n",
      "\n",
      "##########\n",
      "Logistic Regression\n",
      "Accuracy is:  84.61538461538461\n",
      "Cross validation Accuracy:  80.83333333333333\n",
      "\n",
      "##########\n",
      "K-nearest neighbours\n",
      "Accuracy is:  83.33333333333334\n",
      "Cross validation Accuracy:  80.83333333333333\n"
     ]
    }
   ],
   "source": [
    "print('##########\\nSVC')\n",
    "classify(svc,x,y)\n",
    "print()\n",
    "print('##########\\nLogistic Regression')\n",
    "classify(logisticReg,x_test,y_test)\n",
    "print()\n",
    "print('##########\\nK-nearest neighbours')\n",
    "classify(knn,x_test,y_test)"
   ]
  }
 ],
 "metadata": {
  "kernelspec": {
   "display_name": "Python 3",
   "language": "python",
   "name": "python3"
  },
  "language_info": {
   "codemirror_mode": {
    "name": "ipython",
    "version": 3
   },
   "file_extension": ".py",
   "mimetype": "text/x-python",
   "name": "python",
   "nbconvert_exporter": "python",
   "pygments_lexer": "ipython3",
   "version": "3.8.8"
  }
 },
 "nbformat": 4,
 "nbformat_minor": 5
}
